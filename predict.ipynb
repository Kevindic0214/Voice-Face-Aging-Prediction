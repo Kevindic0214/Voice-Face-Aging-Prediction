{
 "cells": [
  {
   "cell_type": "code",
   "execution_count": 1,
   "id": "466887bf",
   "metadata": {},
   "outputs": [
    {
     "data": {
      "application/vnd.microsoft.datawrangler.viewer.v0+json": {
       "columns": [
        {
         "name": "index",
         "rawType": "int64",
         "type": "integer"
        },
        {
         "name": "NUMBER",
         "rawType": "int64",
         "type": "integer"
        },
        {
         "name": "Age",
         "rawType": "int64",
         "type": "integer"
        },
        {
         "name": "Gender",
         "rawType": "int64",
         "type": "integer"
        },
        {
         "name": "Analysis Result",
         "rawType": "object",
         "type": "string"
        },
        {
         "name": "Verbal Fluency",
         "rawType": "float64",
         "type": "float"
        },
        {
         "name": "Lexical Richness",
         "rawType": "float64",
         "type": "float"
        },
        {
         "name": "Speech Rate",
         "rawType": "float64",
         "type": "float"
        },
        {
         "name": "Accuracy",
         "rawType": "float64",
         "type": "float"
        },
        {
         "name": "Voice Fluency",
         "rawType": "float64",
         "type": "float"
        }
       ],
       "conversionMethod": "pd.DataFrame",
       "ref": "607350df-2072-45f7-ad61-601c2fcab580",
       "rows": [
        [
         "0",
         "1",
         "63",
         "2",
         "Normal",
         "0.895205198",
         "0.68428213",
         "0.854516807",
         "1.0",
         "0.940569025"
        ],
        [
         "1",
         "2",
         "67",
         "2",
         "Dementia",
         "0.563597465",
         "0.26719457",
         "0.853778577",
         "0.653680059",
         "0.442837371"
        ],
        [
         "2",
         "3",
         "69",
         "1",
         "Dementia",
         "0.227932259",
         "0.136540541",
         "0.317102728",
         "0.317102728",
         "0.61653794"
        ],
        [
         "3",
         "4",
         "58",
         "2",
         "Normal",
         "1.0",
         "0.683591411",
         "0.939347752",
         "1.0",
         "0.895420157"
        ],
        [
         "4",
         "5",
         "72",
         "2",
         "Dementia",
         "0.606681475",
         "0.201903595",
         "0.40756259",
         "0.541406619",
         "0.436887828"
        ]
       ],
       "shape": {
        "columns": 9,
        "rows": 5
       }
      },
      "text/html": [
       "<div>\n",
       "<style scoped>\n",
       "    .dataframe tbody tr th:only-of-type {\n",
       "        vertical-align: middle;\n",
       "    }\n",
       "\n",
       "    .dataframe tbody tr th {\n",
       "        vertical-align: top;\n",
       "    }\n",
       "\n",
       "    .dataframe thead th {\n",
       "        text-align: right;\n",
       "    }\n",
       "</style>\n",
       "<table border=\"1\" class=\"dataframe\">\n",
       "  <thead>\n",
       "    <tr style=\"text-align: right;\">\n",
       "      <th></th>\n",
       "      <th>NUMBER</th>\n",
       "      <th>Age</th>\n",
       "      <th>Gender</th>\n",
       "      <th>Analysis Result</th>\n",
       "      <th>Verbal Fluency</th>\n",
       "      <th>Lexical Richness</th>\n",
       "      <th>Speech Rate</th>\n",
       "      <th>Accuracy</th>\n",
       "      <th>Voice Fluency</th>\n",
       "    </tr>\n",
       "  </thead>\n",
       "  <tbody>\n",
       "    <tr>\n",
       "      <th>0</th>\n",
       "      <td>1</td>\n",
       "      <td>63</td>\n",
       "      <td>2</td>\n",
       "      <td>Normal</td>\n",
       "      <td>0.895205</td>\n",
       "      <td>0.684282</td>\n",
       "      <td>0.854517</td>\n",
       "      <td>1.000000</td>\n",
       "      <td>0.940569</td>\n",
       "    </tr>\n",
       "    <tr>\n",
       "      <th>1</th>\n",
       "      <td>2</td>\n",
       "      <td>67</td>\n",
       "      <td>2</td>\n",
       "      <td>Dementia</td>\n",
       "      <td>0.563597</td>\n",
       "      <td>0.267195</td>\n",
       "      <td>0.853779</td>\n",
       "      <td>0.653680</td>\n",
       "      <td>0.442837</td>\n",
       "    </tr>\n",
       "    <tr>\n",
       "      <th>2</th>\n",
       "      <td>3</td>\n",
       "      <td>69</td>\n",
       "      <td>1</td>\n",
       "      <td>Dementia</td>\n",
       "      <td>0.227932</td>\n",
       "      <td>0.136541</td>\n",
       "      <td>0.317103</td>\n",
       "      <td>0.317103</td>\n",
       "      <td>0.616538</td>\n",
       "    </tr>\n",
       "    <tr>\n",
       "      <th>3</th>\n",
       "      <td>4</td>\n",
       "      <td>58</td>\n",
       "      <td>2</td>\n",
       "      <td>Normal</td>\n",
       "      <td>1.000000</td>\n",
       "      <td>0.683591</td>\n",
       "      <td>0.939348</td>\n",
       "      <td>1.000000</td>\n",
       "      <td>0.895420</td>\n",
       "    </tr>\n",
       "    <tr>\n",
       "      <th>4</th>\n",
       "      <td>5</td>\n",
       "      <td>72</td>\n",
       "      <td>2</td>\n",
       "      <td>Dementia</td>\n",
       "      <td>0.606681</td>\n",
       "      <td>0.201904</td>\n",
       "      <td>0.407563</td>\n",
       "      <td>0.541407</td>\n",
       "      <td>0.436888</td>\n",
       "    </tr>\n",
       "  </tbody>\n",
       "</table>\n",
       "</div>"
      ],
      "text/plain": [
       "   NUMBER  Age  Gender Analysis Result  Verbal Fluency  Lexical Richness  \\\n",
       "0       1   63       2          Normal        0.895205          0.684282   \n",
       "1       2   67       2        Dementia        0.563597          0.267195   \n",
       "2       3   69       1        Dementia        0.227932          0.136541   \n",
       "3       4   58       2          Normal        1.000000          0.683591   \n",
       "4       5   72       2        Dementia        0.606681          0.201904   \n",
       "\n",
       "   Speech Rate  Accuracy  Voice Fluency  \n",
       "0     0.854517  1.000000       0.940569  \n",
       "1     0.853779  0.653680       0.442837  \n",
       "2     0.317103  0.317103       0.616538  \n",
       "3     0.939348  1.000000       0.895420  \n",
       "4     0.407563  0.541407       0.436888  "
      ]
     },
     "execution_count": 1,
     "metadata": {},
     "output_type": "execute_result"
    }
   ],
   "source": [
    "# %%\n",
    "# 程式碼區塊 1：載入套件與資料\n",
    "\n",
    "import pandas as pd\n",
    "import numpy as np\n",
    "import matplotlib as mpl\n",
    "import matplotlib.pyplot as plt\n",
    "import seaborn as sns\n",
    "\n",
    "from sklearn.model_selection import train_test_split\n",
    "from sklearn.preprocessing import LabelEncoder, StandardScaler\n",
    "from sklearn.ensemble import RandomForestClassifier\n",
    "from sklearn.metrics import classification_report, confusion_matrix, ConfusionMatrixDisplay\n",
    "\n",
    "# 設定全局字體\n",
    "plt.rcParams['font.family'] = 'Arial'\n",
    "plt.rcParams['axes.unicode_minus'] = False\n",
    "# 讀取資料\n",
    "df = pd.read_csv(\"VerbalFluencyTest_rawdata.csv\")\n",
    "df.head()\n"
   ]
  },
  {
   "cell_type": "code",
   "execution_count": 8,
   "id": "b6ae8abe",
   "metadata": {},
   "outputs": [
    {
     "name": "stdout",
     "output_type": "stream",
     "text": [
      "訓練集形狀: (672, 5) (70.00%)\n",
      "驗證集形狀: (144, 5) (15.00%)\n",
      "測試集形狀: (144, 5) (15.00%)\n"
     ]
    }
   ],
   "source": [
    "# %%\n",
    "# 程式碼區塊 2：資料前處理（篩選與標準化）\n",
    "\n",
    "# 類別編碼與特徵選取（保持不變）\n",
    "df_model = df[df[\"Analysis Result\"] != \"Inconclusive\"].copy().dropna()\n",
    "label_encoder = LabelEncoder()\n",
    "df_model[\"label\"] = label_encoder.fit_transform(df_model[\"Analysis Result\"])\n",
    "\n",
    "features = [\"Verbal Fluency\", \"Lexical Richness\", \"Speech Rate\", \"Accuracy\", \"Voice Fluency\"]\n",
    "X = df_model[features]\n",
    "y = df_model[\"label\"]\n",
    "\n",
    "# 先分割資料再標準化 (關鍵修正點)\n",
    "X_train, X_temp, y_train, y_temp = train_test_split(\n",
    "    X, y,  # 這裡使用原始未標準化數據\n",
    "    test_size=0.3, \n",
    "    random_state=42,\n",
    "    stratify=y\n",
    ")\n",
    "\n",
    "X_val, X_test, y_val, y_test = train_test_split(\n",
    "    X_temp, y_temp,\n",
    "    test_size=0.5,\n",
    "    random_state=42,\n",
    "    stratify=y_temp\n",
    ")\n",
    "\n",
    "# 標準化流程修正\n",
    "scaler = StandardScaler()\n",
    "X_train_scaled = scaler.fit_transform(X_train)  # 僅用訓練集擬合\n",
    "X_val_scaled = scaler.transform(X_val)         # 應用相同參數\n",
    "X_test_scaled = scaler.transform(X_test)       # 應用相同參數\n",
    "\n",
    "# 確認形狀與比例\n",
    "print(f\"訓練集形狀: {X_train_scaled.shape} ({len(X_train_scaled)/len(X):.2%})\")\n",
    "print(f\"驗證集形狀: {X_val_scaled.shape} ({len(X_val_scaled)/len(X):.2%})\")\n",
    "print(f\"測試集形狀: {X_test_scaled.shape} ({len(X_test_scaled)/len(X):.2%})\")"
   ]
  },
  {
   "cell_type": "code",
   "execution_count": 9,
   "id": "875b46da",
   "metadata": {},
   "outputs": [
    {
     "name": "stdout",
     "output_type": "stream",
     "text": [
      "訓練集類別比例: {0: 97, 1: 575}\n",
      "測試集類別比例: {0: 21, 1: 123}\n"
     ]
    }
   ],
   "source": [
    "from sklearn.utils import class_weight\n",
    "print(\"訓練集類別比例:\", {0: sum(y_train==0), 1: sum(y_train==1)})\n",
    "print(\"測試集類別比例:\", {0: sum(y_test==0), 1: sum(y_test==1)})"
   ]
  },
  {
   "cell_type": "code",
   "execution_count": null,
   "id": "33240509",
   "metadata": {},
   "outputs": [
    {
     "name": "stdout",
     "output_type": "stream",
     "text": [
      "                         model  auc_mean   auc_std   f1_mean  recall_mean  \\\n",
      "1        RandomForest_Balanced  0.992741  0.009682  0.983535     0.984362   \n",
      "3                 SVM_Balanced  0.991881  0.007231  0.976150     0.961766   \n",
      "2             XGBoost_Weighted  0.990271  0.010622  0.983596     0.989564   \n",
      "0  LogisticRegression_Balanced  0.988745  0.011659  0.975056     0.958258   \n",
      "\n",
      "   precision_mean  \n",
      "1        0.982813  \n",
      "3        0.991132  \n",
      "2        0.977815  \n",
      "0        0.992851  \n"
     ]
    }
   ],
   "source": [
    "# %%\n",
    "# 程式碼區塊 3：模型訓練與評估\n",
    "from sklearn.model_selection import cross_validate\n",
    "from sklearn.linear_model import LogisticRegression\n",
    "from sklearn.svm import SVC\n",
    "from xgboost import XGBClassifier\n",
    "\n",
    "# 設定評估指標\n",
    "scoring = { \n",
    "    'roc_auc': 'roc_auc',\n",
    "    'f1': 'f1',\n",
    "    'recall': 'recall',\n",
    "    'precision': 'precision'\n",
    "}\n",
    "\n",
    "from sklearn.model_selection import StratifiedKFold\n",
    "# 設定交叉驗證\n",
    "cv = StratifiedKFold(n_splits=10, shuffle=True, random_state=42)\n",
    "\n",
    "# 修改後的程式碼區塊3：比較內建平衡機制\n",
    "updated_models = [\n",
    "    {\n",
    "        'name': 'LogisticRegression_Balanced',\n",
    "        'model': LogisticRegression(\n",
    "            class_weight='balanced',  # 啟用內建平衡\n",
    "            max_iter=1000,\n",
    "            random_state=42\n",
    "        )\n",
    "    },\n",
    "    {\n",
    "        'name': 'RandomForest_Balanced',\n",
    "        'model': RandomForestClassifier(\n",
    "            class_weight='balanced',\n",
    "            n_estimators=100,\n",
    "            random_state=42\n",
    "        )\n",
    "    },\n",
    "    {\n",
    "        'name': 'XGBoost_Weighted',\n",
    "        'model': XGBClassifier(\n",
    "            scale_pos_weight=len(y_train[y_train==1])/len(y_train[y_train==0]),  # 575/97 ≈ 5.93\n",
    "            eval_metric='logloss',\n",
    "            use_label_encoder=False\n",
    "        )\n",
    "    },\n",
    "    {\n",
    "        'name': 'SVM_Balanced',\n",
    "        'model': SVC(\n",
    "            class_weight='balanced',  # 啟用類別權重\n",
    "            probability=True,\n",
    "            kernel='rbf',\n",
    "            random_state=42\n",
    "        )\n",
    "    }\n",
    "]\n",
    "\n",
    "# 重新執行比較\n",
    "results = []\n",
    "for model_info in updated_models:\n",
    "    scores = cross_validate(\n",
    "        estimator=model_info['model'],\n",
    "        X=X_train_scaled,\n",
    "        y=y_train,\n",
    "        cv=cv,\n",
    "        scoring=scoring,\n",
    "        n_jobs=-1,\n",
    "        return_train_score=False\n",
    "    )\n",
    "    \n",
    "    results.append({\n",
    "        'model': model_info['name'],\n",
    "        'auc_mean': np.mean(scores['test_roc_auc']),\n",
    "        'auc_std': np.std(scores['test_roc_auc']),\n",
    "        'f1_mean': np.mean(scores['test_f1']),\n",
    "        'recall_mean': np.mean(scores['test_recall']),\n",
    "        'precision_mean': np.mean(scores['test_precision'])\n",
    "    })\n",
    "\n",
    "# 顯示結果\n",
    "results_df = pd.DataFrame(results).sort_values(by='auc_mean', ascending=False)\n",
    "print(results_df[['model', 'auc_mean', 'auc_std', 'f1_mean', 'recall_mean', 'precision_mean']])"
   ]
  },
  {
   "cell_type": "code",
   "execution_count": 12,
   "id": "b608f42b",
   "metadata": {},
   "outputs": [
    {
     "name": "stdout",
     "output_type": "stream",
     "text": [
      "=== 驗證集詳細評估 ===\n",
      "AUC-ROC: 1.000\n",
      "F1: 1.000\n",
      "Recall: 1.000\n",
      "Precision: 1.000\n",
      "\n",
      "=== 測試集最終報告 ===\n",
      "              precision    recall  f1-score   support\n",
      "\n",
      "      Normal      0.952     0.952     0.952        21\n",
      "    Dementia      0.992     0.992     0.992       123\n",
      "\n",
      "    accuracy                          0.986       144\n",
      "   macro avg      0.972     0.972     0.972       144\n",
      "weighted avg      0.986     0.986     0.986       144\n",
      "\n"
     ]
    },
    {
     "data": {
      "image/png": "[encoded data removed]",
      "text/plain": [
       "<Figure size 1500x1200 with 6 Axes>"
      ]
     },
     "metadata": {},
     "output_type": "display_data"
    },
    {
     "name": "stderr",
     "output_type": "stream",
     "text": [
      "C:\\Users\\user\\AppData\\Local\\Temp\\ipykernel_4216\\850307112.py:82: FutureWarning: \n",
      "\n",
      "Passing `palette` without assigning `hue` is deprecated and will be removed in v0.14.0. Assign the `y` variable to `hue` and set `legend=False` for the same effect.\n",
      "\n",
      "  sns.barplot(x='Importance', y='Feature', data=feature_importance, palette='viridis')\n"
     ]
    },
    {
     "data": {
      "image/png": "[encoded data removed]",
      "text/plain": [
       "<Figure size 1000x500 with 1 Axes>"
      ]
     },
     "metadata": {},
     "output_type": "display_data"
    }
   ],
   "source": [
    "# 程式碼區塊4：最佳模型訓練與評估\n",
    "from sklearn.metrics import (roc_auc_score, f1_score, recall_score, \n",
    "                             precision_score, confusion_matrix, \n",
    "                             classification_report, RocCurveDisplay,\n",
    "                             PrecisionRecallDisplay)\n",
    "import matplotlib.pyplot as plt\n",
    "import seaborn as sns\n",
    "\n",
    "# 初始化最佳模型（根據交叉驗證結果選擇RandomForest_Balanced）\n",
    "best_model = RandomForestClassifier(\n",
    "    class_weight='balanced_subsample',\n",
    "    n_estimators=100,\n",
    "    random_state=42\n",
    ")\n",
    "\n",
    "# 完整訓練流程\n",
    "best_model.fit(X_train_scaled, y_train)  # 使用全部訓練數據\n",
    "\n",
    "# 驗證集評估\n",
    "print(\"=== 驗證集詳細評估 ===\")\n",
    "y_val_pred = best_model.predict(X_val_scaled)\n",
    "y_val_proba = best_model.predict_proba(X_val_scaled)[:,1]\n",
    "\n",
    "# 關鍵指標計算\n",
    "val_metrics = {\n",
    "    'AUC-ROC': roc_auc_score(y_val, y_val_proba),\n",
    "    'F1': f1_score(y_val, y_val_pred),\n",
    "    'Recall': recall_score(y_val, y_val_pred),\n",
    "    'Precision': precision_score(y_val, y_val_pred)\n",
    "}\n",
    "\n",
    "# 格式化輸出\n",
    "for metric, value in val_metrics.items():\n",
    "    print(f\"{metric}: {value:.3f}\")\n",
    "\n",
    "# 測試集最終評估\n",
    "print(\"\\n=== 測試集最終報告 ===\")\n",
    "y_test_pred = best_model.predict(X_test_scaled)\n",
    "y_test_proba = best_model.predict_proba(X_test_scaled)[:,1]\n",
    "\n",
    "# 完整分類報告\n",
    "print(classification_report(y_test, y_test_pred, \n",
    "                           target_names=['Normal', 'Dementia'],\n",
    "                           digits=3))\n",
    "\n",
    "# 可視化分析\n",
    "fig, ax = plt.subplots(2, 2, figsize=(15, 12))\n",
    "\n",
    "# 混淆矩陣（驗證集）\n",
    "sns.heatmap(confusion_matrix(y_val, y_val_pred), \n",
    "            annot=True, fmt='d', ax=ax[0,0],\n",
    "            xticklabels=['Pred Normal', 'Pred Dementia'],\n",
    "            yticklabels=['True Normal', 'True Dementia'], cmap='Blues')\n",
    "ax[0,0].set_title(\"Validation Set Confusion Matrix\")\n",
    "\n",
    "# 混淆矩陣（測試集）\n",
    "sns.heatmap(confusion_matrix(y_test, y_test_pred), \n",
    "            annot=True, fmt='d', ax=ax[0,1],\n",
    "            xticklabels=['Pred Normal', 'Pred Dementia'],\n",
    "            yticklabels=['True Normal', 'True Dementia'], cmap='Blues')\n",
    "ax[0,1].set_title(\"Test Set Confusion Matrix\")\n",
    "\n",
    "# ROC曲線\n",
    "RocCurveDisplay.from_estimator(best_model, X_test_scaled, y_test, ax=ax[1,0])\n",
    "ax[1,0].plot([0, 1], [0, 1], linestyle='--', color='gray')\n",
    "ax[1,0].set_title(\"ROC Curve (Test Set)\")\n",
    "\n",
    "# PR曲線\n",
    "PrecisionRecallDisplay.from_estimator(best_model, X_test_scaled, y_test, ax=ax[1,1])\n",
    "ax[1,1].set_title(\"Precision-Recall Curve (Test Set)\")\n",
    "\n",
    "plt.tight_layout()\n",
    "plt.show()\n",
    "\n",
    "# 特徵重要性分析（隨機森林專用）\n",
    "feature_importance = pd.DataFrame({\n",
    "    'Feature': features,\n",
    "    'Importance': best_model.feature_importances_\n",
    "}).sort_values('Importance', ascending=False)\n",
    "\n",
    "plt.figure(figsize=(10,5))\n",
    "sns.barplot(x='Importance', y='Feature', data=feature_importance, palette='viridis')\n",
    "plt.title(\"RandomForest Feature Importance (Mean Decrease in Gini Impurity)\")\n",
    "plt.xlabel(\"Importance Score\")\n",
    "plt.ylabel(\"\")\n",
    "plt.show()"
   ]
  },
  {
   "cell_type": "code",
   "execution_count": 13,
   "id": "d0390253",
   "metadata": {},
   "outputs": [
    {
     "data": {
      "application/vnd.microsoft.datawrangler.viewer.v0+json": {
       "columns": [
        {
         "name": "index",
         "rawType": "int64",
         "type": "integer"
        },
        {
         "name": "Feature",
         "rawType": "object",
         "type": "string"
        },
        {
         "name": "|Correlation|",
         "rawType": "float64",
         "type": "float"
        }
       ],
       "conversionMethod": "pd.DataFrame",
       "ref": "609b443c-9068-400c-8ff8-1a3c5c781eb5",
       "rows": [
        [
         "1",
         "Lexical Richness",
         "0.7517869579080705"
        ],
        [
         "2",
         "Speech Rate",
         "0.6785749431505341"
        ],
        [
         "0",
         "Verbal Fluency",
         "0.6728039043233653"
        ],
        [
         "3",
         "Accuracy",
         "0.641676237630842"
        ],
        [
         "4",
         "Voice Fluency",
         "0.5676549898579226"
        ]
       ],
       "shape": {
        "columns": 2,
        "rows": 5
       }
      },
      "text/html": [
       "<div>\n",
       "<style scoped>\n",
       "    .dataframe tbody tr th:only-of-type {\n",
       "        vertical-align: middle;\n",
       "    }\n",
       "\n",
       "    .dataframe tbody tr th {\n",
       "        vertical-align: top;\n",
       "    }\n",
       "\n",
       "    .dataframe thead th {\n",
       "        text-align: right;\n",
       "    }\n",
       "</style>\n",
       "<table border=\"1\" class=\"dataframe\">\n",
       "  <thead>\n",
       "    <tr style=\"text-align: right;\">\n",
       "      <th></th>\n",
       "      <th>Feature</th>\n",
       "      <th>|Correlation|</th>\n",
       "    </tr>\n",
       "  </thead>\n",
       "  <tbody>\n",
       "    <tr>\n",
       "      <th>1</th>\n",
       "      <td>Lexical Richness</td>\n",
       "      <td>0.751787</td>\n",
       "    </tr>\n",
       "    <tr>\n",
       "      <th>2</th>\n",
       "      <td>Speech Rate</td>\n",
       "      <td>0.678575</td>\n",
       "    </tr>\n",
       "    <tr>\n",
       "      <th>0</th>\n",
       "      <td>Verbal Fluency</td>\n",
       "      <td>0.672804</td>\n",
       "    </tr>\n",
       "    <tr>\n",
       "      <th>3</th>\n",
       "      <td>Accuracy</td>\n",
       "      <td>0.641676</td>\n",
       "    </tr>\n",
       "    <tr>\n",
       "      <th>4</th>\n",
       "      <td>Voice Fluency</td>\n",
       "      <td>0.567655</td>\n",
       "    </tr>\n",
       "  </tbody>\n",
       "</table>\n",
       "</div>"
      ],
      "text/plain": [
       "            Feature  |Correlation|\n",
       "1  Lexical Richness       0.751787\n",
       "2       Speech Rate       0.678575\n",
       "0    Verbal Fluency       0.672804\n",
       "3          Accuracy       0.641676\n",
       "4     Voice Fluency       0.567655"
      ]
     },
     "execution_count": 13,
     "metadata": {},
     "output_type": "execute_result"
    }
   ],
   "source": [
    "# 檢查特徵與標籤的關聯性\n",
    "from scipy.stats import pointbiserialr\n",
    "\n",
    "correlations = []\n",
    "for feature in features:\n",
    "    corr, _ = pointbiserialr(df_model[feature], df_model[\"label\"])\n",
    "    correlations.append(abs(corr))\n",
    "\n",
    "pd.DataFrame({'Feature': features, '|Correlation|': correlations}) \\\n",
    "  .sort_values('|Correlation|', ascending=False)"
   ]
  }
 ],
 "metadata": {
  "kernelspec": {
   "display_name": "Python 3",
   "language": "python",
   "name": "python3"
  },
  "language_info": {
   "codemirror_mode": {
    "name": "ipython",
    "version": 3
   },
   "file_extension": ".py",
   "mimetype": "text/x-python",
   "name": "python",
   "nbconvert_exporter": "python",
   "pygments_lexer": "ipython3",
   "version": "3.10.16"
  }
 },
 "nbformat": 4,
 "nbformat_minor": 5
}
