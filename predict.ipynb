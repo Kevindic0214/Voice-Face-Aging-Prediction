{
 "cells": [
  {
   "cell_type": "code",
   "execution_count": 10,
   "id": "466887bf",
   "metadata": {},
   "outputs": [
    {
     "data": {
      "application/vnd.microsoft.datawrangler.viewer.v0+json": {
       "columns": [
        {
         "name": "index",
         "rawType": "int64",
         "type": "integer"
        },
        {
         "name": "受試者編號",
         "rawType": "int64",
         "type": "integer"
        },
        {
         "name": "年齡",
         "rawType": "int64",
         "type": "integer"
        },
        {
         "name": "性別",
         "rawType": "int64",
         "type": "integer"
        },
        {
         "name": "分析結果",
         "rawType": "object",
         "type": "string"
        },
        {
         "name": "詞彙流暢度",
         "rawType": "float64",
         "type": "float"
        },
        {
         "name": "詞彙豐富度",
         "rawType": "float64",
         "type": "float"
        },
        {
         "name": "說話速度",
         "rawType": "float64",
         "type": "float"
        },
        {
         "name": "正確率",
         "rawType": "float64",
         "type": "float"
        },
        {
         "name": "聲音流暢度",
         "rawType": "float64",
         "type": "float"
        }
       ],
       "conversionMethod": "pd.DataFrame",
       "ref": "5fd3a31a-4819-4d32-bc34-bbcc9fccf6d1",
       "rows": [
        [
         "0",
         "1",
         "63",
         "2",
         "Normal",
         "0.895205198",
         "0.68428213",
         "0.854516807",
         "1.0",
         "0.940569025"
        ],
        [
         "1",
         "2",
         "67",
         "2",
         "Dementia",
         "0.563597465",
         "0.26719457",
         "0.853778577",
         "0.653680059",
         "0.442837371"
        ],
        [
         "2",
         "3",
         "69",
         "1",
         "Dementia",
         "0.227932259",
         "0.136540541",
         "0.317102728",
         "0.317102728",
         "0.61653794"
        ],
        [
         "3",
         "4",
         "58",
         "2",
         "Normal",
         "1.0",
         "0.683591411",
         "0.939347752",
         "1.0",
         "0.895420157"
        ],
        [
         "4",
         "5",
         "72",
         "2",
         "Dementia",
         "0.606681475",
         "0.201903595",
         "0.40756259",
         "0.541406619",
         "0.436887828"
        ]
       ],
       "shape": {
        "columns": 9,
        "rows": 5
       }
      },
      "text/html": [
       "<div>\n",
       "<style scoped>\n",
       "    .dataframe tbody tr th:only-of-type {\n",
       "        vertical-align: middle;\n",
       "    }\n",
       "\n",
       "    .dataframe tbody tr th {\n",
       "        vertical-align: top;\n",
       "    }\n",
       "\n",
       "    .dataframe thead th {\n",
       "        text-align: right;\n",
       "    }\n",
       "</style>\n",
       "<table border=\"1\" class=\"dataframe\">\n",
       "  <thead>\n",
       "    <tr style=\"text-align: right;\">\n",
       "      <th></th>\n",
       "      <th>受試者編號</th>\n",
       "      <th>年齡</th>\n",
       "      <th>性別</th>\n",
       "      <th>分析結果</th>\n",
       "      <th>詞彙流暢度</th>\n",
       "      <th>詞彙豐富度</th>\n",
       "      <th>說話速度</th>\n",
       "      <th>正確率</th>\n",
       "      <th>聲音流暢度</th>\n",
       "    </tr>\n",
       "  </thead>\n",
       "  <tbody>\n",
       "    <tr>\n",
       "      <th>0</th>\n",
       "      <td>1</td>\n",
       "      <td>63</td>\n",
       "      <td>2</td>\n",
       "      <td>Normal</td>\n",
       "      <td>0.895205</td>\n",
       "      <td>0.684282</td>\n",
       "      <td>0.854517</td>\n",
       "      <td>1.000000</td>\n",
       "      <td>0.940569</td>\n",
       "    </tr>\n",
       "    <tr>\n",
       "      <th>1</th>\n",
       "      <td>2</td>\n",
       "      <td>67</td>\n",
       "      <td>2</td>\n",
       "      <td>Dementia</td>\n",
       "      <td>0.563597</td>\n",
       "      <td>0.267195</td>\n",
       "      <td>0.853779</td>\n",
       "      <td>0.653680</td>\n",
       "      <td>0.442837</td>\n",
       "    </tr>\n",
       "    <tr>\n",
       "      <th>2</th>\n",
       "      <td>3</td>\n",
       "      <td>69</td>\n",
       "      <td>1</td>\n",
       "      <td>Dementia</td>\n",
       "      <td>0.227932</td>\n",
       "      <td>0.136541</td>\n",
       "      <td>0.317103</td>\n",
       "      <td>0.317103</td>\n",
       "      <td>0.616538</td>\n",
       "    </tr>\n",
       "    <tr>\n",
       "      <th>3</th>\n",
       "      <td>4</td>\n",
       "      <td>58</td>\n",
       "      <td>2</td>\n",
       "      <td>Normal</td>\n",
       "      <td>1.000000</td>\n",
       "      <td>0.683591</td>\n",
       "      <td>0.939348</td>\n",
       "      <td>1.000000</td>\n",
       "      <td>0.895420</td>\n",
       "    </tr>\n",
       "    <tr>\n",
       "      <th>4</th>\n",
       "      <td>5</td>\n",
       "      <td>72</td>\n",
       "      <td>2</td>\n",
       "      <td>Dementia</td>\n",
       "      <td>0.606681</td>\n",
       "      <td>0.201904</td>\n",
       "      <td>0.407563</td>\n",
       "      <td>0.541407</td>\n",
       "      <td>0.436888</td>\n",
       "    </tr>\n",
       "  </tbody>\n",
       "</table>\n",
       "</div>"
      ],
      "text/plain": [
       "   受試者編號  年齡  性別      分析結果     詞彙流暢度     詞彙豐富度      說話速度       正確率     聲音流暢度\n",
       "0      1  63   2    Normal  0.895205  0.684282  0.854517  1.000000  0.940569\n",
       "1      2  67   2  Dementia  0.563597  0.267195  0.853779  0.653680  0.442837\n",
       "2      3  69   1  Dementia  0.227932  0.136541  0.317103  0.317103  0.616538\n",
       "3      4  58   2    Normal  1.000000  0.683591  0.939348  1.000000  0.895420\n",
       "4      5  72   2  Dementia  0.606681  0.201904  0.407563  0.541407  0.436888"
      ]
     },
     "execution_count": 10,
     "metadata": {},
     "output_type": "execute_result"
    }
   ],
   "source": [
    "# %%\n",
    "# 程式碼區塊 1：載入套件與資料\n",
    "\n",
    "import pandas as pd\n",
    "import numpy as np\n",
    "import matplotlib as mpl\n",
    "import matplotlib.pyplot as plt\n",
    "import seaborn as sns\n",
    "\n",
    "from sklearn.model_selection import train_test_split\n",
    "from sklearn.preprocessing import LabelEncoder, StandardScaler\n",
    "from sklearn.ensemble import RandomForestClassifier\n",
    "from sklearn.metrics import classification_report, confusion_matrix, ConfusionMatrixDisplay\n",
    "\n",
    "# 設定全局字體\n",
    "plt.rcParams['font.family'] = 'Microsoft JhengHei'  # 設定字體為微軟正黑體\n",
    "plt.rcParams['axes.unicode_minus'] = False  # 顯示負號\n",
    "# 讀取資料\n",
    "df = pd.read_csv(\"VerbalFluencyTest_rawdata.csv\")  # 請將檔案名稱改為你的檔名\n",
    "df.head()\n"
   ]
  },
  {
   "cell_type": "code",
   "execution_count": 6,
   "id": "b6ae8abe",
   "metadata": {},
   "outputs": [],
   "source": [
    "# %%\n",
    "# 程式碼區塊 2：資料前處理（篩選與標準化）\n",
    "\n",
    "# 移除 Inconclusive 樣本\n",
    "df_model = df[df[\"分析結果\"] != \"Inconclusive\"].copy()\n",
    "\n",
    "df_model = df_model.dropna()\n",
    "\n",
    "# 類別編碼：Normal → 0, Dementia → 1\n",
    "label_encoder = LabelEncoder()\n",
    "df_model[\"label\"] = label_encoder.fit_transform(df_model[\"分析結果\"])\n",
    "\n",
    "# 特徵與目標欄位\n",
    "features = [\"詞彙流暢度\", \"詞彙豐富度\", \"說話速度\", \"正確率\", \"聲音流暢度\", \"年齡\"]\n",
    "X = df_model[features]\n",
    "y = df_model[\"label\"]\n",
    "\n",
    "# 標準化特徵\n",
    "scaler = StandardScaler()\n",
    "X_scaled = scaler.fit_transform(X)\n",
    "\n",
    "# 切分訓練集與測試集\n",
    "X_train, X_test, y_train, y_test = train_test_split(\n",
    "    X_scaled, y, test_size=0.2, stratify=y, random_state=42\n",
    ")\n"
   ]
  },
  {
   "cell_type": "code",
   "execution_count": 7,
   "id": "33240509",
   "metadata": {},
   "outputs": [],
   "source": [
    "# %%\n",
    "# 程式碼區塊 3：建立與訓練模型（Random Forest）\n",
    "\n",
    "clf = RandomForestClassifier(n_estimators=100, random_state=42)\n",
    "clf.fit(X_train, y_train)\n",
    "\n",
    "# 預測\n",
    "y_pred = clf.predict(X_test)\n"
   ]
  },
  {
   "cell_type": "code",
   "execution_count": 8,
   "id": "b608f42b",
   "metadata": {},
   "outputs": [
    {
     "name": "stdout",
     "output_type": "stream",
     "text": [
      "Classification Report:\n",
      "              precision    recall  f1-score   support\n",
      "\n",
      "    Dementia       0.90      0.93      0.91        28\n",
      "      Normal       0.99      0.98      0.98       164\n",
      "\n",
      "    accuracy                           0.97       192\n",
      "   macro avg       0.94      0.96      0.95       192\n",
      "weighted avg       0.97      0.97      0.97       192\n",
      "\n"
     ]
    },
    {
     "data": {
      "image/png": "[encoded data removed]",
      "text/plain": [
       "<Figure size 640x480 with 2 Axes>"
      ]
     },
     "metadata": {},
     "output_type": "display_data"
    }
   ],
   "source": [
    "# %%\n",
    "# 程式碼區塊 4：模型評估\n",
    "\n",
    "# 類別名稱\n",
    "class_names = label_encoder.classes_\n",
    "\n",
    "# 評估報告\n",
    "print(\"Classification Report:\")\n",
    "print(classification_report(y_test, y_pred, target_names=class_names))\n",
    "\n",
    "# 混淆矩陣\n",
    "ConfusionMatrixDisplay.from_estimator(clf, X_test, y_test, display_labels=class_names, cmap=\"Blues\")\n",
    "plt.title(\"Confusion Matrix\")\n",
    "plt.show()\n"
   ]
  },
  {
   "cell_type": "code",
   "execution_count": 11,
   "id": "d0390253",
   "metadata": {},
   "outputs": [
    {
     "data": {
      "image/png": "[encoded data removed]",
      "text/plain": [
       "<Figure size 800x500 with 1 Axes>"
      ]
     },
     "metadata": {},
     "output_type": "display_data"
    }
   ],
   "source": [
    "# %%\n",
    "# 程式碼區塊 5：視覺化特徵重要性\n",
    "\n",
    "importances = clf.feature_importances_\n",
    "indices = np.argsort(importances)[::-1]\n",
    "feature_names = [features[i] for i in indices]\n",
    "\n",
    "plt.figure(figsize=(8, 5))\n",
    "sns.barplot(x=importances[indices], y=feature_names)\n",
    "plt.title(\"Feature Importance (Random Forest)\")\n",
    "plt.xlabel(\"Importance\")\n",
    "plt.ylabel(\"Feature\")\n",
    "plt.show()\n"
   ]
  },
  {
   "cell_type": "code",
   "execution_count": null,
   "id": "7c7e9636",
   "metadata": {},
   "outputs": [],
   "source": [
    "# %%\n",
    "# 程式碼區塊 6：Stratified k‑Fold 交叉驗證評估\n",
    "\n",
    "from sklearn.model_selection import StratifiedKFold, cross_validate\n",
    "\n",
    "# 我們用整筆資料 X_scaled, y 來做 CV\n",
    "skf = StratifiedKFold(n_splits=5, shuffle=True, random_state=42)\n",
    "scoring = ['accuracy', 'precision', 'recall', 'f1', 'roc_auc']\n",
    "\n",
    "cv_results = cross_validate(\n",
    "    clf, X_scaled, y,\n",
    "    cv=skf,\n",
    "    scoring=scoring,\n",
    "    return_train_score=False\n",
    ")\n",
    "\n",
    "# 輸出每個指標的平均與標準差\n",
    "print(\"5‑Fold Cross‑Validation Results:\")\n",
    "for metric in scoring:\n",
    "    scores = cv_results[f'test_{metric}']\n",
    "    print(f\"  • {metric:7s}: {scores.mean():.3f} ± {scores.std():.3f}\")\n"
   ]
  }
 ],
 "metadata": {
  "kernelspec": {
   "display_name": "Python 3",
   "language": "python",
   "name": "python3"
  },
  "language_info": {
   "codemirror_mode": {
    "name": "ipython",
    "version": 3
   },
   "file_extension": ".py",
   "mimetype": "text/x-python",
   "name": "python",
   "nbconvert_exporter": "python",
   "pygments_lexer": "ipython3",
   "version": "3.10.16"
  }
 },
 "nbformat": 4,
 "nbformat_minor": 5
}
